{
  "cells": [
    {
      "cell_type": "markdown",
      "metadata": {
        "id": "K4VWqHtDbhfk"
      },
      "source": [
        "# Case Study: classificação de *reviews* \n",
        "<br>\n",
        "\n",
        "### Índice <a name=\"topo\"></a>\n",
        "\n",
        "1. [Análise de negócio](#1)\n",
        "2. [Explorando os dados](#2)\n",
        "3. [Pré-processamento dos dados](#3)\n",
        "4. [Modelagem](#4)\n",
        "5. [Avaliação do modelo](#5)"
      ]
    },
    {
      "cell_type": "markdown",
      "metadata": {
        "id": "SyVqAyg5bhfn"
      },
      "source": [
        "## 1. Análise de negócio\n",
        "\n",
        "Temos aqui um conjunto de dados de uma empresa varejista, especializada em moda feminina, beleza e casa. Temos variáveis que descrevem os produtos mais vendidos, suas categorias e respectivos departamentos, além de variávies que descrevem e pontuam a satisfação dos clientes com a compra destes produtos. Nosso objetivo, depois de uma prévia exploração dos dados, será classificar as avaliações dos clientes em positivas (alto grau de satisfação) e negativas (baixo grau de satisfação). Para isso, utilizaremos a variável 'SCORE' para a construção de uma variável alvo, que compreenderá as classes 'Alto' e 'Baixo'."
      ]
    },
    {
      "cell_type": "markdown",
      "metadata": {
        "id": "4So7VS3bbhfo"
      },
      "source": [
        "## 2. Explorando os dados"
      ]
    },
    {
      "cell_type": "markdown",
      "metadata": {
        "id": "C6HTW-3Lbhfp"
      },
      "source": [
        "### 2.1 Carregamento dos pacotes e do conjunto de dados"
      ]
    },
    {
      "cell_type": "code",
      "execution_count": null,
      "metadata": {
        "colab": {
          "base_uri": "https://localhost:8080/"
        },
        "id": "x6WtQbQxbhfq",
        "outputId": "144dbbf4-a510-41b4-97da-43ec3d302a92"
      },
      "outputs": [
        {
          "output_type": "stream",
          "name": "stdout",
          "text": [
            "[nltk_data] Downloading package omw-1.4 to /root/nltk_data...\n",
            "[nltk_data]   Unzipping corpora/omw-1.4.zip.\n",
            "[nltk_data] Downloading package wordnet to /root/nltk_data...\n",
            "[nltk_data]   Unzipping corpora/wordnet.zip.\n",
            "[nltk_data] Downloading package punkt to /root/nltk_data...\n",
            "[nltk_data]   Unzipping tokenizers/punkt.zip.\n",
            "[nltk_data] Downloading package stopwords to /root/nltk_data...\n",
            "[nltk_data]   Unzipping corpora/stopwords.zip.\n"
          ]
        }
      ],
      "source": [
        "#Carregamento dos pacotes\n",
        "import pandas as pd\n",
        "import numpy as np\n",
        "import matplotlib.pyplot as plt\n",
        "import seaborn as sns\n",
        "sns.set_style(\"whitegrid\")\n",
        "\n",
        "import re\n",
        "import nltk\n",
        "from nltk.stem import WordNetLemmatizer\n",
        "from nltk import pos_tag\n",
        "from nltk import word_tokenize\n",
        "from nltk.probability import FreqDist\n",
        "\n",
        "nltk.download('omw-1.4')\n",
        "nltk.download('wordnet')\n",
        "nltk.download('punkt')\n",
        "nltk.download('stopwords')\n",
        "stopwords = nltk.corpus.stopwords.words('portuguese')"
      ]
    },
    {
      "cell_type": "code",
      "execution_count": null,
      "metadata": {
        "colab": {
          "base_uri": "https://localhost:8080/",
          "height": 685
        },
        "id": "fxQ3XtvXbhfu",
        "outputId": "bb0bdab7-5fdf-43b9-c770-9ebadcd2ed6a"
      },
      "outputs": [
        {
          "output_type": "execute_result",
          "data": {
            "text/plain": [
              "     ID_REVIEW  PRODUCT_ID              DEPARTMENT     CATEGORY  \\\n",
              "0  242083902.0  \"20022906\"         WOMEN'S FASHION     CLOTHING   \n",
              "1  232278423.0  \"20022906\"         WOMEN'S FASHION     CLOTHING   \n",
              "2  235635542.0  \"20022906\"         WOMEN'S FASHION     CLOTHING   \n",
              "3   33719898.0  \"20003125\"         WOMEN'S FASHION     CLOTHING   \n",
              "4  289550771.0  \"50000766\"         WOMEN'S FASHION        SHOES   \n",
              "5   36249604.0  \"20005767\"         WOMEN'S FASHION     CLOTHING   \n",
              "6   59379649.0  \"20010857\"                    GIFT   INDEFINIDO   \n",
              "7   62200141.0  \"20010857\"                    GIFT   INDEFINIDO   \n",
              "8  270424657.0  \"40002474\"  BEAUTY & PERSONAL CARE  BODY & BATH   \n",
              "9  296518344.0  \"50100372\"         WOMEN'S FASHION  ACCESSORIES   \n",
              "\n",
              "                                   REVIEW_TITLE  \\\n",
              "0                                       \"Linda\"   \n",
              "1  \"Talvez fique melho em quem tem seus medios\"   \n",
              "2                                      \"Gostei\"   \n",
              "3                                 \"MARAVILHOSO\"   \n",
              "4                                   \"PERFEITO!\"   \n",
              "5                                       \"Amei!\"   \n",
              "6                                    \"Lenço!!!\"   \n",
              "7                     \"Lindo e ótima qualidade\"   \n",
              "8                                 \"Maravilhoso\"   \n",
              "9                             \"Bolsa Tote Maxi\"   \n",
              "\n",
              "                                      REVIEW_CONTENT  SCORE  \\\n",
              "0     \"Blusa perfeita, muito linda, elegante e sexy\"    5.0   \n",
              "1  \"Tenho busto pequeno, não ficou um caimento no...    2.0   \n",
              "2  \"Ficou um pouco mais apertada do que eu imagin...    3.0   \n",
              "3   \"Comprem pelo tamanho de tabela. Perfeito !!!!!\"    5.0   \n",
              "4  \"eu amei o sapato, chegou muito rápido e a qua...    5.0   \n",
              "5           \"Lindíssimo! Corte e tecido impecáveis!\"    5.0   \n",
              "6  \"É lindo!!! Amei a cor e a textura, muito maci...    5.0   \n",
              "7  \"Brinde maravilhoso. Tecido bom. Cor neutra e ...    5.0   \n",
              "8                                      \"Maravilhoso\"    5.0   \n",
              "9                                  \"Bolsa Tote Maxi\"    1.0   \n",
              "\n",
              "                   CREATED_AT                   UPDATE_AT     REVIEWER_TYPE  \n",
              "0  \"2021-03-30T23:55:24.000Z\"  \"2021-03-30T23:55:31.000Z\"  \"verified_buyer\"  \n",
              "1  \"2021-02-17T18:24:10.000Z\"  \"2021-02-17T18:24:19.000Z\"  \"verified_buyer\"  \n",
              "2  \"2021-03-02T17:03:41.000Z\"  \"2021-03-02T17:03:45.000Z\"  \"verified_buyer\"  \n",
              "3  \"2016-11-30T20:19:04.000Z\"  \"2017-10-07T20:50:59.000Z\"  \"anonymous_user\"  \n",
              "4  \"2021-09-09T16:09:38.000Z\"  \"2021-09-09T16:09:38.000Z\"  \"verified_buyer\"  \n",
              "5  \"2017-02-10T22:37:10.000Z\"  \"2017-10-31T11:52:06.000Z\"  \"verified_buyer\"  \n",
              "6  \"2018-05-16T11:07:51.000Z\"  \"2018-05-16T17:45:50.000Z\"  \"verified_buyer\"  \n",
              "7  \"2018-06-29T04:34:31.000Z\"  \"2018-06-29T20:33:24.000Z\"  \"verified_buyer\"  \n",
              "8  \"2021-06-26T11:22:08.000Z\"  \"2021-06-26T11:22:20.000Z\"  \"verified_buyer\"  \n",
              "9  \"2021-09-30T21:36:08.000Z\"  \"2021-09-30T21:36:52.000Z\"  \"verified_buyer\"  "
            ],
            "text/html": [
              "\n",
              "  <div id=\"df-a6df3660-990f-480b-8a1a-d909428dbc17\">\n",
              "    <div class=\"colab-df-container\">\n",
              "      <div>\n",
              "<style scoped>\n",
              "    .dataframe tbody tr th:only-of-type {\n",
              "        vertical-align: middle;\n",
              "    }\n",
              "\n",
              "    .dataframe tbody tr th {\n",
              "        vertical-align: top;\n",
              "    }\n",
              "\n",
              "    .dataframe thead th {\n",
              "        text-align: right;\n",
              "    }\n",
              "</style>\n",
              "<table border=\"1\" class=\"dataframe\">\n",
              "  <thead>\n",
              "    <tr style=\"text-align: right;\">\n",
              "      <th></th>\n",
              "      <th>ID_REVIEW</th>\n",
              "      <th>PRODUCT_ID</th>\n",
              "      <th>DEPARTMENT</th>\n",
              "      <th>CATEGORY</th>\n",
              "      <th>REVIEW_TITLE</th>\n",
              "      <th>REVIEW_CONTENT</th>\n",
              "      <th>SCORE</th>\n",
              "      <th>CREATED_AT</th>\n",
              "      <th>UPDATE_AT</th>\n",
              "      <th>REVIEWER_TYPE</th>\n",
              "    </tr>\n",
              "  </thead>\n",
              "  <tbody>\n",
              "    <tr>\n",
              "      <th>0</th>\n",
              "      <td>242083902.0</td>\n",
              "      <td>\"20022906\"</td>\n",
              "      <td>WOMEN'S FASHION</td>\n",
              "      <td>CLOTHING</td>\n",
              "      <td>\"Linda\"</td>\n",
              "      <td>\"Blusa perfeita, muito linda, elegante e sexy\"</td>\n",
              "      <td>5.0</td>\n",
              "      <td>\"2021-03-30T23:55:24.000Z\"</td>\n",
              "      <td>\"2021-03-30T23:55:31.000Z\"</td>\n",
              "      <td>\"verified_buyer\"</td>\n",
              "    </tr>\n",
              "    <tr>\n",
              "      <th>1</th>\n",
              "      <td>232278423.0</td>\n",
              "      <td>\"20022906\"</td>\n",
              "      <td>WOMEN'S FASHION</td>\n",
              "      <td>CLOTHING</td>\n",
              "      <td>\"Talvez fique melho em quem tem seus medios\"</td>\n",
              "      <td>\"Tenho busto pequeno, não ficou um caimento no...</td>\n",
              "      <td>2.0</td>\n",
              "      <td>\"2021-02-17T18:24:10.000Z\"</td>\n",
              "      <td>\"2021-02-17T18:24:19.000Z\"</td>\n",
              "      <td>\"verified_buyer\"</td>\n",
              "    </tr>\n",
              "    <tr>\n",
              "      <th>2</th>\n",
              "      <td>235635542.0</td>\n",
              "      <td>\"20022906\"</td>\n",
              "      <td>WOMEN'S FASHION</td>\n",
              "      <td>CLOTHING</td>\n",
              "      <td>\"Gostei\"</td>\n",
              "      <td>\"Ficou um pouco mais apertada do que eu imagin...</td>\n",
              "      <td>3.0</td>\n",
              "      <td>\"2021-03-02T17:03:41.000Z\"</td>\n",
              "      <td>\"2021-03-02T17:03:45.000Z\"</td>\n",
              "      <td>\"verified_buyer\"</td>\n",
              "    </tr>\n",
              "    <tr>\n",
              "      <th>3</th>\n",
              "      <td>33719898.0</td>\n",
              "      <td>\"20003125\"</td>\n",
              "      <td>WOMEN'S FASHION</td>\n",
              "      <td>CLOTHING</td>\n",
              "      <td>\"MARAVILHOSO\"</td>\n",
              "      <td>\"Comprem pelo tamanho de tabela. Perfeito !!!!!\"</td>\n",
              "      <td>5.0</td>\n",
              "      <td>\"2016-11-30T20:19:04.000Z\"</td>\n",
              "      <td>\"2017-10-07T20:50:59.000Z\"</td>\n",
              "      <td>\"anonymous_user\"</td>\n",
              "    </tr>\n",
              "    <tr>\n",
              "      <th>4</th>\n",
              "      <td>289550771.0</td>\n",
              "      <td>\"50000766\"</td>\n",
              "      <td>WOMEN'S FASHION</td>\n",
              "      <td>SHOES</td>\n",
              "      <td>\"PERFEITO!\"</td>\n",
              "      <td>\"eu amei o sapato, chegou muito rápido e a qua...</td>\n",
              "      <td>5.0</td>\n",
              "      <td>\"2021-09-09T16:09:38.000Z\"</td>\n",
              "      <td>\"2021-09-09T16:09:38.000Z\"</td>\n",
              "      <td>\"verified_buyer\"</td>\n",
              "    </tr>\n",
              "    <tr>\n",
              "      <th>5</th>\n",
              "      <td>36249604.0</td>\n",
              "      <td>\"20005767\"</td>\n",
              "      <td>WOMEN'S FASHION</td>\n",
              "      <td>CLOTHING</td>\n",
              "      <td>\"Amei!\"</td>\n",
              "      <td>\"Lindíssimo! Corte e tecido impecáveis!\"</td>\n",
              "      <td>5.0</td>\n",
              "      <td>\"2017-02-10T22:37:10.000Z\"</td>\n",
              "      <td>\"2017-10-31T11:52:06.000Z\"</td>\n",
              "      <td>\"verified_buyer\"</td>\n",
              "    </tr>\n",
              "    <tr>\n",
              "      <th>6</th>\n",
              "      <td>59379649.0</td>\n",
              "      <td>\"20010857\"</td>\n",
              "      <td>GIFT</td>\n",
              "      <td>INDEFINIDO</td>\n",
              "      <td>\"Lenço!!!\"</td>\n",
              "      <td>\"É lindo!!! Amei a cor e a textura, muito maci...</td>\n",
              "      <td>5.0</td>\n",
              "      <td>\"2018-05-16T11:07:51.000Z\"</td>\n",
              "      <td>\"2018-05-16T17:45:50.000Z\"</td>\n",
              "      <td>\"verified_buyer\"</td>\n",
              "    </tr>\n",
              "    <tr>\n",
              "      <th>7</th>\n",
              "      <td>62200141.0</td>\n",
              "      <td>\"20010857\"</td>\n",
              "      <td>GIFT</td>\n",
              "      <td>INDEFINIDO</td>\n",
              "      <td>\"Lindo e ótima qualidade\"</td>\n",
              "      <td>\"Brinde maravilhoso. Tecido bom. Cor neutra e ...</td>\n",
              "      <td>5.0</td>\n",
              "      <td>\"2018-06-29T04:34:31.000Z\"</td>\n",
              "      <td>\"2018-06-29T20:33:24.000Z\"</td>\n",
              "      <td>\"verified_buyer\"</td>\n",
              "    </tr>\n",
              "    <tr>\n",
              "      <th>8</th>\n",
              "      <td>270424657.0</td>\n",
              "      <td>\"40002474\"</td>\n",
              "      <td>BEAUTY &amp; PERSONAL CARE</td>\n",
              "      <td>BODY &amp; BATH</td>\n",
              "      <td>\"Maravilhoso\"</td>\n",
              "      <td>\"Maravilhoso\"</td>\n",
              "      <td>5.0</td>\n",
              "      <td>\"2021-06-26T11:22:08.000Z\"</td>\n",
              "      <td>\"2021-06-26T11:22:20.000Z\"</td>\n",
              "      <td>\"verified_buyer\"</td>\n",
              "    </tr>\n",
              "    <tr>\n",
              "      <th>9</th>\n",
              "      <td>296518344.0</td>\n",
              "      <td>\"50100372\"</td>\n",
              "      <td>WOMEN'S FASHION</td>\n",
              "      <td>ACCESSORIES</td>\n",
              "      <td>\"Bolsa Tote Maxi\"</td>\n",
              "      <td>\"Bolsa Tote Maxi\"</td>\n",
              "      <td>1.0</td>\n",
              "      <td>\"2021-09-30T21:36:08.000Z\"</td>\n",
              "      <td>\"2021-09-30T21:36:52.000Z\"</td>\n",
              "      <td>\"verified_buyer\"</td>\n",
              "    </tr>\n",
              "  </tbody>\n",
              "</table>\n",
              "</div>\n",
              "      <button class=\"colab-df-convert\" onclick=\"convertToInteractive('df-a6df3660-990f-480b-8a1a-d909428dbc17')\"\n",
              "              title=\"Convert this dataframe to an interactive table.\"\n",
              "              style=\"display:none;\">\n",
              "        \n",
              "  <svg xmlns=\"http://www.w3.org/2000/svg\" height=\"24px\"viewBox=\"0 0 24 24\"\n",
              "       width=\"24px\">\n",
              "    <path d=\"M0 0h24v24H0V0z\" fill=\"none\"/>\n",
              "    <path d=\"M18.56 5.44l.94 2.06.94-2.06 2.06-.94-2.06-.94-.94-2.06-.94 2.06-2.06.94zm-11 1L8.5 8.5l.94-2.06 2.06-.94-2.06-.94L8.5 2.5l-.94 2.06-2.06.94zm10 10l.94 2.06.94-2.06 2.06-.94-2.06-.94-.94-2.06-.94 2.06-2.06.94z\"/><path d=\"M17.41 7.96l-1.37-1.37c-.4-.4-.92-.59-1.43-.59-.52 0-1.04.2-1.43.59L10.3 9.45l-7.72 7.72c-.78.78-.78 2.05 0 2.83L4 21.41c.39.39.9.59 1.41.59.51 0 1.02-.2 1.41-.59l7.78-7.78 2.81-2.81c.8-.78.8-2.07 0-2.86zM5.41 20L4 18.59l7.72-7.72 1.47 1.35L5.41 20z\"/>\n",
              "  </svg>\n",
              "      </button>\n",
              "      \n",
              "  <style>\n",
              "    .colab-df-container {\n",
              "      display:flex;\n",
              "      flex-wrap:wrap;\n",
              "      gap: 12px;\n",
              "    }\n",
              "\n",
              "    .colab-df-convert {\n",
              "      background-color: #E8F0FE;\n",
              "      border: none;\n",
              "      border-radius: 50%;\n",
              "      cursor: pointer;\n",
              "      display: none;\n",
              "      fill: #1967D2;\n",
              "      height: 32px;\n",
              "      padding: 0 0 0 0;\n",
              "      width: 32px;\n",
              "    }\n",
              "\n",
              "    .colab-df-convert:hover {\n",
              "      background-color: #E2EBFA;\n",
              "      box-shadow: 0px 1px 2px rgba(60, 64, 67, 0.3), 0px 1px 3px 1px rgba(60, 64, 67, 0.15);\n",
              "      fill: #174EA6;\n",
              "    }\n",
              "\n",
              "    [theme=dark] .colab-df-convert {\n",
              "      background-color: #3B4455;\n",
              "      fill: #D2E3FC;\n",
              "    }\n",
              "\n",
              "    [theme=dark] .colab-df-convert:hover {\n",
              "      background-color: #434B5C;\n",
              "      box-shadow: 0px 1px 3px 1px rgba(0, 0, 0, 0.15);\n",
              "      filter: drop-shadow(0px 1px 2px rgba(0, 0, 0, 0.3));\n",
              "      fill: #FFFFFF;\n",
              "    }\n",
              "  </style>\n",
              "\n",
              "      <script>\n",
              "        const buttonEl =\n",
              "          document.querySelector('#df-a6df3660-990f-480b-8a1a-d909428dbc17 button.colab-df-convert');\n",
              "        buttonEl.style.display =\n",
              "          google.colab.kernel.accessAllowed ? 'block' : 'none';\n",
              "\n",
              "        async function convertToInteractive(key) {\n",
              "          const element = document.querySelector('#df-a6df3660-990f-480b-8a1a-d909428dbc17');\n",
              "          const dataTable =\n",
              "            await google.colab.kernel.invokeFunction('convertToInteractive',\n",
              "                                                     [key], {});\n",
              "          if (!dataTable) return;\n",
              "\n",
              "          const docLinkHtml = 'Like what you see? Visit the ' +\n",
              "            '<a target=\"_blank\" href=https://colab.research.google.com/notebooks/data_table.ipynb>data table notebook</a>'\n",
              "            + ' to learn more about interactive tables.';\n",
              "          element.innerHTML = '';\n",
              "          dataTable['output_type'] = 'display_data';\n",
              "          await google.colab.output.renderOutput(dataTable, element);\n",
              "          const docLink = document.createElement('div');\n",
              "          docLink.innerHTML = docLinkHtml;\n",
              "          element.appendChild(docLink);\n",
              "        }\n",
              "      </script>\n",
              "    </div>\n",
              "  </div>\n",
              "  "
            ]
          },
          "metadata": {},
          "execution_count": 2
        }
      ],
      "source": [
        "#Carregamento do dataset\n",
        "df = pd.read_excel('AMARO_DS_TEST.xlsx')\n",
        "qtd_total,_ = df.shape\n",
        "df.head(10)"
      ]
    },
    {
      "cell_type": "markdown",
      "metadata": {
        "id": "lumD77ICbhfv"
      },
      "source": [
        "### 2.2 Análise Exploratória"
      ]
    },
    {
      "cell_type": "code",
      "execution_count": null,
      "metadata": {
        "id": "i7JxLkrGbhfw",
        "colab": {
          "base_uri": "https://localhost:8080/"
        },
        "outputId": "11b293d4-5fb1-4e32-9ee9-f997d5f15122"
      },
      "outputs": [
        {
          "output_type": "stream",
          "name": "stdout",
          "text": [
            "<class 'pandas.core.frame.DataFrame'>\n",
            "RangeIndex: 50000 entries, 0 to 49999\n",
            "Data columns (total 10 columns):\n",
            " #   Column          Non-Null Count  Dtype  \n",
            "---  ------          --------------  -----  \n",
            " 0   ID_REVIEW       50000 non-null  float64\n",
            " 1   PRODUCT_ID      49954 non-null  object \n",
            " 2   DEPARTMENT      44004 non-null  object \n",
            " 3   CATEGORY        44004 non-null  object \n",
            " 4   REVIEW_TITLE    50000 non-null  object \n",
            " 5   REVIEW_CONTENT  50000 non-null  object \n",
            " 6   SCORE           50000 non-null  float64\n",
            " 7   CREATED_AT      50000 non-null  object \n",
            " 8   UPDATE_AT       50000 non-null  object \n",
            " 9   REVIEWER_TYPE   50000 non-null  object \n",
            "dtypes: float64(2), object(8)\n",
            "memory usage: 3.8+ MB\n"
          ]
        }
      ],
      "source": [
        "#Algumas informações gerais\n",
        "df.info()"
      ]
    },
    {
      "cell_type": "code",
      "execution_count": null,
      "metadata": {
        "id": "L2WQ2qBPbhfw",
        "colab": {
          "base_uri": "https://localhost:8080/"
        },
        "outputId": "46fc533e-97c1-4c85-f11d-4039198b366a"
      },
      "outputs": [
        {
          "output_type": "execute_result",
          "data": {
            "text/plain": [
              "ID_REVIEW            0\n",
              "PRODUCT_ID          46\n",
              "DEPARTMENT        5996\n",
              "CATEGORY          5996\n",
              "REVIEW_TITLE         0\n",
              "REVIEW_CONTENT       0\n",
              "SCORE                0\n",
              "CREATED_AT           0\n",
              "UPDATE_AT            0\n",
              "REVIEWER_TYPE        0\n",
              "dtype: int64"
            ]
          },
          "metadata": {},
          "execution_count": 4
        }
      ],
      "source": [
        "df.isna().sum()"
      ]
    },
    {
      "cell_type": "markdown",
      "metadata": {
        "id": "C8wYRImObhfx"
      },
      "source": [
        "Podemos notar que nosso dataframe possui duas colunas não informativas, 'ID_REVIEW' e 'PRODUCT_ID', que serão retiradas para análises futuras. Vemos também que há dados faltantes nas colunas 'DEPARTMENT' e 'CATEGORY' (da ordem de 12% do número de observações totais) que precisarão ser substituídos por um valor adequado ou removidos. Interessante notar que a variável 'REVIEW_CONTENT' pode nos dar informação sobre os valores faltantes em 'CATEGORY' (e consequentemente em 'DEPARTMENT'), mas em um primeiro momento pode ser mais vantajoso simplesmente removê-los ou substituí-los pela categoria de maior frequência.\n",
        "\n",
        "As variáveis 'CREATED_AT' e 'UPDATE_AT' são do tipo string e deverão ser convertidas para *datetime*. Vamos remover 'UPDATE_AT', tendo em vista que a informação que podemos retirar delas é redundante. Já as variáveis 'REVIEW_TITLE' e 'REVIEW_CONTENT' deverão ser tratadas com técnicas adequadas de *Natural Language Processing* (NLP). Note que pode haver erros de digitação e ou tipográficos nestes textos. Por fim, as variáveis categóricas 'REVIEWER_TYPE', 'DEPARTMENT' e 'CATEGORY' precisarão ser convertidas em numéricas para que possamos aplicar modelos de *machine learning* ao problema. \n",
        "\n",
        "Vamos agora visualizar as distribuições das variáveis de interesse."
      ]
    },
    {
      "cell_type": "code",
      "execution_count": null,
      "metadata": {
        "id": "8mMPVDRKbhfz",
        "colab": {
          "base_uri": "https://localhost:8080/",
          "height": 1000
        },
        "outputId": "78b05880-dd93-4065-e25c-286b56186763"
      },
      "outputs": [
        {
          "output_type": "display_data",
          "data": {
            "text/plain": [
              "<Figure size 1008x1080 with 4 Axes>"
            ],
            "image/png": "[encoded data removed]"
          },
          "metadata": {
            "needs_background": "light"
          }
        }
      ],
      "source": [
        "def plot_dist(var, n_row, n_col, title, x_label, data, rotation = 0):\n",
        "    f = sns.countplot(ax = axes[n_row, n_col], x = var, data = data, order = data[var].value_counts().index)\n",
        "    f.set(title = title, xlabel = x_label, ylabel = 'Frequência Absoluta')\n",
        "    f.tick_params(axis=\"x\", rotation = rotation)\n",
        "    return None\n",
        "\n",
        "fig, axes = plt.subplots(2, 2, figsize=(14, 15))\n",
        "plot_dist('SCORE', 0, 0, 'Distribuição das pontuações', 'Pontuação', df)\n",
        "plot_dist('DEPARTMENT', 1, 1, 'Departamentos', 'Departamento', df, 60)\n",
        "plot_dist('CATEGORY', 1, 0, 'Categorias', 'Categoria', df, 90)\n",
        "plot_dist('REVIEWER_TYPE', 0, 1, 'Tipos de avaliadores', 'Avaliadores', df)"
      ]
    },
    {
      "cell_type": "markdown",
      "metadata": {
        "id": "6MHHoE5jbhf0"
      },
      "source": [
        "Podemos notar que a maioria das avaliações receberam notas entre 4 e 5, sendo que a grande maioria destas são nota 5, o que mostra um nível alto de satisfação dos clientes. Vemos também que a maioria dos tipos de avaliadores são verificados. Além disso, as categorias mais vendidas da empresa são roupas, sapatos e acessórios, todos inclusos no departamento 'WOMEN'S FASHION'."
      ]
    },
    {
      "cell_type": "markdown",
      "metadata": {
        "id": "GPWzlGlMbhf1"
      },
      "source": [
        "## 3. Pré-processamento dos dados"
      ]
    },
    {
      "cell_type": "markdown",
      "metadata": {
        "id": "fTjLpcJdbhf1"
      },
      "source": [
        "Vamos agora limpar e processar os dados para que possam ser modelados. Optamos em um primeiro momento por retirar os valores faltantes e não substituí-los pelo valor mais frequente, dado que nosso dataset já é bem desbalanceado. Antes de converter a variável 'CREATED_AT' precisaremos tratá-la para que o método to_datetime do pandas possa ser utilizado. A variável 'REVIEW_TITLE' será retirada por fornecer informação reduntante."
      ]
    },
    {
      "cell_type": "code",
      "execution_count": null,
      "metadata": {
        "colab": {
          "base_uri": "https://localhost:8080/",
          "height": 206
        },
        "id": "vB1whGjTbhf2",
        "outputId": "f3802b47-99e6-401d-e52c-10a1e3c55dc9"
      },
      "outputs": [
        {
          "output_type": "execute_result",
          "data": {
            "text/plain": [
              "        DEPARTMENT  CATEGORY  \\\n",
              "0  WOMEN'S FASHION  CLOTHING   \n",
              "1  WOMEN'S FASHION  CLOTHING   \n",
              "2  WOMEN'S FASHION  CLOTHING   \n",
              "3  WOMEN'S FASHION  CLOTHING   \n",
              "4  WOMEN'S FASHION     SHOES   \n",
              "\n",
              "                                      REVIEW_CONTENT  SCORE  \\\n",
              "0     \"Blusa perfeita, muito linda, elegante e sexy\"    5.0   \n",
              "1  \"Tenho busto pequeno, não ficou um caimento no...    2.0   \n",
              "2  \"Ficou um pouco mais apertada do que eu imagin...    3.0   \n",
              "3   \"Comprem pelo tamanho de tabela. Perfeito !!!!!\"    5.0   \n",
              "4  \"eu amei o sapato, chegou muito rápido e a qua...    5.0   \n",
              "\n",
              "                 CREATED_AT     REVIEWER_TYPE  \n",
              "0 2021-03-30 23:55:24+00:00  \"verified_buyer\"  \n",
              "1 2021-02-17 18:24:10+00:00  \"verified_buyer\"  \n",
              "2 2021-03-02 17:03:41+00:00  \"verified_buyer\"  \n",
              "3 2016-11-30 20:19:04+00:00  \"anonymous_user\"  \n",
              "4 2021-09-09 16:09:38+00:00  \"verified_buyer\"  "
            ],
            "text/html": [
              "\n",
              "  <div id=\"df-8f137d79-ece4-40fc-8196-f0edd309d835\">\n",
              "    <div class=\"colab-df-container\">\n",
              "      <div>\n",
              "<style scoped>\n",
              "    .dataframe tbody tr th:only-of-type {\n",
              "        vertical-align: middle;\n",
              "    }\n",
              "\n",
              "    .dataframe tbody tr th {\n",
              "        vertical-align: top;\n",
              "    }\n",
              "\n",
              "    .dataframe thead th {\n",
              "        text-align: right;\n",
              "    }\n",
              "</style>\n",
              "<table border=\"1\" class=\"dataframe\">\n",
              "  <thead>\n",
              "    <tr style=\"text-align: right;\">\n",
              "      <th></th>\n",
              "      <th>DEPARTMENT</th>\n",
              "      <th>CATEGORY</th>\n",
              "      <th>REVIEW_CONTENT</th>\n",
              "      <th>SCORE</th>\n",
              "      <th>CREATED_AT</th>\n",
              "      <th>REVIEWER_TYPE</th>\n",
              "    </tr>\n",
              "  </thead>\n",
              "  <tbody>\n",
              "    <tr>\n",
              "      <th>0</th>\n",
              "      <td>WOMEN'S FASHION</td>\n",
              "      <td>CLOTHING</td>\n",
              "      <td>\"Blusa perfeita, muito linda, elegante e sexy\"</td>\n",
              "      <td>5.0</td>\n",
              "      <td>2021-03-30 23:55:24+00:00</td>\n",
              "      <td>\"verified_buyer\"</td>\n",
              "    </tr>\n",
              "    <tr>\n",
              "      <th>1</th>\n",
              "      <td>WOMEN'S FASHION</td>\n",
              "      <td>CLOTHING</td>\n",
              "      <td>\"Tenho busto pequeno, não ficou um caimento no...</td>\n",
              "      <td>2.0</td>\n",
              "      <td>2021-02-17 18:24:10+00:00</td>\n",
              "      <td>\"verified_buyer\"</td>\n",
              "    </tr>\n",
              "    <tr>\n",
              "      <th>2</th>\n",
              "      <td>WOMEN'S FASHION</td>\n",
              "      <td>CLOTHING</td>\n",
              "      <td>\"Ficou um pouco mais apertada do que eu imagin...</td>\n",
              "      <td>3.0</td>\n",
              "      <td>2021-03-02 17:03:41+00:00</td>\n",
              "      <td>\"verified_buyer\"</td>\n",
              "    </tr>\n",
              "    <tr>\n",
              "      <th>3</th>\n",
              "      <td>WOMEN'S FASHION</td>\n",
              "      <td>CLOTHING</td>\n",
              "      <td>\"Comprem pelo tamanho de tabela. Perfeito !!!!!\"</td>\n",
              "      <td>5.0</td>\n",
              "      <td>2016-11-30 20:19:04+00:00</td>\n",
              "      <td>\"anonymous_user\"</td>\n",
              "    </tr>\n",
              "    <tr>\n",
              "      <th>4</th>\n",
              "      <td>WOMEN'S FASHION</td>\n",
              "      <td>SHOES</td>\n",
              "      <td>\"eu amei o sapato, chegou muito rápido e a qua...</td>\n",
              "      <td>5.0</td>\n",
              "      <td>2021-09-09 16:09:38+00:00</td>\n",
              "      <td>\"verified_buyer\"</td>\n",
              "    </tr>\n",
              "  </tbody>\n",
              "</table>\n",
              "</div>\n",
              "      <button class=\"colab-df-convert\" onclick=\"convertToInteractive('df-8f137d79-ece4-40fc-8196-f0edd309d835')\"\n",
              "              title=\"Convert this dataframe to an interactive table.\"\n",
              "              style=\"display:none;\">\n",
              "        \n",
              "  <svg xmlns=\"http://www.w3.org/2000/svg\" height=\"24px\"viewBox=\"0 0 24 24\"\n",
              "       width=\"24px\">\n",
              "    <path d=\"M0 0h24v24H0V0z\" fill=\"none\"/>\n",
              "    <path d=\"M18.56 5.44l.94 2.06.94-2.06 2.06-.94-2.06-.94-.94-2.06-.94 2.06-2.06.94zm-11 1L8.5 8.5l.94-2.06 2.06-.94-2.06-.94L8.5 2.5l-.94 2.06-2.06.94zm10 10l.94 2.06.94-2.06 2.06-.94-2.06-.94-.94-2.06-.94 2.06-2.06.94z\"/><path d=\"M17.41 7.96l-1.37-1.37c-.4-.4-.92-.59-1.43-.59-.52 0-1.04.2-1.43.59L10.3 9.45l-7.72 7.72c-.78.78-.78 2.05 0 2.83L4 21.41c.39.39.9.59 1.41.59.51 0 1.02-.2 1.41-.59l7.78-7.78 2.81-2.81c.8-.78.8-2.07 0-2.86zM5.41 20L4 18.59l7.72-7.72 1.47 1.35L5.41 20z\"/>\n",
              "  </svg>\n",
              "      </button>\n",
              "      \n",
              "  <style>\n",
              "    .colab-df-container {\n",
              "      display:flex;\n",
              "      flex-wrap:wrap;\n",
              "      gap: 12px;\n",
              "    }\n",
              "\n",
              "    .colab-df-convert {\n",
              "      background-color: #E8F0FE;\n",
              "      border: none;\n",
              "      border-radius: 50%;\n",
              "      cursor: pointer;\n",
              "      display: none;\n",
              "      fill: #1967D2;\n",
              "      height: 32px;\n",
              "      padding: 0 0 0 0;\n",
              "      width: 32px;\n",
              "    }\n",
              "\n",
              "    .colab-df-convert:hover {\n",
              "      background-color: #E2EBFA;\n",
              "      box-shadow: 0px 1px 2px rgba(60, 64, 67, 0.3), 0px 1px 3px 1px rgba(60, 64, 67, 0.15);\n",
              "      fill: #174EA6;\n",
              "    }\n",
              "\n",
              "    [theme=dark] .colab-df-convert {\n",
              "      background-color: #3B4455;\n",
              "      fill: #D2E3FC;\n",
              "    }\n",
              "\n",
              "    [theme=dark] .colab-df-convert:hover {\n",
              "      background-color: #434B5C;\n",
              "      box-shadow: 0px 1px 3px 1px rgba(0, 0, 0, 0.15);\n",
              "      filter: drop-shadow(0px 1px 2px rgba(0, 0, 0, 0.3));\n",
              "      fill: #FFFFFF;\n",
              "    }\n",
              "  </style>\n",
              "\n",
              "      <script>\n",
              "        const buttonEl =\n",
              "          document.querySelector('#df-8f137d79-ece4-40fc-8196-f0edd309d835 button.colab-df-convert');\n",
              "        buttonEl.style.display =\n",
              "          google.colab.kernel.accessAllowed ? 'block' : 'none';\n",
              "\n",
              "        async function convertToInteractive(key) {\n",
              "          const element = document.querySelector('#df-8f137d79-ece4-40fc-8196-f0edd309d835');\n",
              "          const dataTable =\n",
              "            await google.colab.kernel.invokeFunction('convertToInteractive',\n",
              "                                                     [key], {});\n",
              "          if (!dataTable) return;\n",
              "\n",
              "          const docLinkHtml = 'Like what you see? Visit the ' +\n",
              "            '<a target=\"_blank\" href=https://colab.research.google.com/notebooks/data_table.ipynb>data table notebook</a>'\n",
              "            + ' to learn more about interactive tables.';\n",
              "          element.innerHTML = '';\n",
              "          dataTable['output_type'] = 'display_data';\n",
              "          await google.colab.output.renderOutput(dataTable, element);\n",
              "          const docLink = document.createElement('div');\n",
              "          docLink.innerHTML = docLinkHtml;\n",
              "          element.appendChild(docLink);\n",
              "        }\n",
              "      </script>\n",
              "    </div>\n",
              "  </div>\n",
              "  "
            ]
          },
          "metadata": {},
          "execution_count": 6
        }
      ],
      "source": [
        "#retirando variáveis não explicativas\n",
        "df = df.drop(['ID_REVIEW', 'PRODUCT_ID', 'UPDATE_AT', 'REVIEW_TITLE'], axis=1)\n",
        "df['CREATED_AT'] = pd.to_datetime(df['CREATED_AT'].str.replace('\\\"',''))\n",
        "df.head()"
      ]
    },
    {
      "cell_type": "code",
      "execution_count": null,
      "metadata": {
        "colab": {
          "base_uri": "https://localhost:8080/"
        },
        "id": "ZQ8WvCuMbhf3",
        "outputId": "abea70fa-82b6-4c91-fda3-fcf4045b3b9c"
      },
      "outputs": [
        {
          "output_type": "execute_result",
          "data": {
            "text/plain": [
              "DEPARTMENT  SCORE\n",
              "False       5.0       4646\n",
              "            4.0        677\n",
              "            3.0        348\n",
              "            1.0        186\n",
              "            2.0        139\n",
              "True        5.0      32608\n",
              "            4.0       5560\n",
              "            3.0       2766\n",
              "            1.0       1765\n",
              "            2.0       1305\n",
              "Name: SCORE, dtype: int64"
            ]
          },
          "metadata": {},
          "execution_count": 7
        }
      ],
      "source": [
        "#Verificando como estão distribuídos os missing values em 'DEPARTMENT' com respeito ao 'SCORE'\n",
        "df.groupby(df['DEPARTMENT'].notnull())['SCORE'].value_counts()"
      ]
    },
    {
      "cell_type": "code",
      "execution_count": null,
      "metadata": {
        "colab": {
          "base_uri": "https://localhost:8080/"
        },
        "id": "GYaelbBZbhf4",
        "outputId": "621c2a54-aed4-414d-96b0-49ac8aced7da"
      },
      "outputs": [
        {
          "output_type": "stream",
          "name": "stdout",
          "text": [
            "Quantidade de linhas retiradas: 5996.\n"
          ]
        }
      ],
      "source": [
        "#Como a proporção de missing values está levemente mais acentuada na classe de score 5 (majoritária), vamos simplesmente\n",
        "#retirar essas linhas para não acentuar o desbalanceamento.\n",
        "df_no_missing = df.dropna()\n",
        "nova_qtd_total,_ = df_no_missing.shape\n",
        "print(f\"Quantidade de linhas retiradas: {qtd_total-nova_qtd_total}.\")"
      ]
    },
    {
      "cell_type": "code",
      "execution_count": null,
      "metadata": {
        "colab": {
          "base_uri": "https://localhost:8080/"
        },
        "id": "rgRknrrNbhf5",
        "outputId": "957661ba-868f-4001-8642-e209aecc02d8"
      },
      "outputs": [
        {
          "output_type": "execute_result",
          "data": {
            "text/plain": [
              "[['blusa', 'perfeita', 'linda', 'elegante', 'sexy'],\n",
              " ['busto',\n",
              "  'pequeno',\n",
              "  'nao',\n",
              "  'ficou',\n",
              "  'caimento',\n",
              "  'decote',\n",
              "  'bonito',\n",
              "  'porem',\n",
              "  'tecido',\n",
              "  'qualidade'],\n",
              " ['ficou', 'pouco', 'apertada', 'imaginava', 'ok'],\n",
              " ['comprem', 'tamanho', 'tabela', 'perfeito'],\n",
              " ['amei', 'sapato', 'chegou', 'rapido', 'qualidade', 'incrivel', 'recomendo'],\n",
              " ['lindissimo', 'corte', 'tecido', 'impecaveis'],\n",
              " ['lindo',\n",
              "  'amei',\n",
              "  'cor',\n",
              "  'textura',\n",
              "  'macio',\n",
              "  'sedoso',\n",
              "  'obrigada',\n",
              "  'brinde',\n",
              "  'amaro'],\n",
              " ['brinde', 'maravilhoso', 'tecido', 'bom', 'cor', 'neutra', 'chique'],\n",
              " ['maravilhoso'],\n",
              " ['bolsa', 'tote', 'maxi']]"
            ]
          },
          "metadata": {},
          "execution_count": 9
        }
      ],
      "source": [
        "#Tratando a variável 'REVIEW_CONTENT'\n",
        "#Primeiramente vamos normalizar a caixa e remover símbolos, depois criaremos os tokens retirando as stopwords\n",
        "#Finalmente, vamos usar o Lemmatizer para reduzir todas as formas conjugadas à sua raiz\n",
        "\n",
        "def repl(match):\n",
        "    data = {\"á\": \"a\",\"ã\": \"a\", \"ç\": \"c\", \"ê\": \"e\", \"é\": \"e\", \"í\": \"i\", \"ó\": \"o\"}\n",
        "    return data.get(match.group(0))\n",
        "\n",
        "def tokenize(text):\n",
        "    lemmatizer = WordNetLemmatizer()\n",
        "    text = re.sub(u\"[^a-zA-Z0-9\\s]\", repl, text.encode().decode('utf-8').lower())\n",
        "    tokens = word_tokenize(text)\n",
        "    tokens = [lemmatizer.lemmatize(word) for word in tokens if word not in stopwords]\n",
        "    return tokens\n",
        "\n",
        "tokens_corpus = []\n",
        "for text in df_no_missing.REVIEW_CONTENT:\n",
        "    tokens = tokenize(text)\n",
        "    tokens_corpus.append(tokens)\n",
        "    \n",
        "tokens_corpus[:10]    "
      ]
    },
    {
      "cell_type": "code",
      "execution_count": null,
      "metadata": {
        "colab": {
          "base_uri": "https://localhost:8080/",
          "height": 669
        },
        "id": "ImmWGtlyUAyH",
        "outputId": "e2c5edb7-babd-4fa2-bd09-744a6c7019f7"
      },
      "outputs": [
        {
          "output_type": "stream",
          "name": "stdout",
          "text": [
            "40 palavras mais frequentes:\n",
            "[('bem', 11359), ('nao', 10994), ('ficou', 10864), ('tecido', 7899), ('linda', 7491), ('comprei', 7017), ('super', 6781), ('tamanho', 6317), ('lindo', 5520), ('amei', 5336), ('confortavel', 5149), ('qualidade', 4731), ('caimento', 4482), ('calca', 4262), ('perfeito', 4203), ('otimo', 3681), ('pouco', 3411), ('veste', 3164), ('amaro', 3150), ('cor', 3134), ('bom', 3047), ('fica', 2877), ('cintura', 2851), ('achei', 2788), ('perfeita', 2740), ('peca', 2726), ('adorei', 2670), ('gostei', 2606), ('pra', 2534), ('vestido', 2515), ('produto', 2447), ('otima', 2383), ('corpo', 2273), ('p', 2215), ('grande', 2115), ('ser', 2110), ('uso', 2099), ('blusa', 2059), ('m', 2047), ('usar', 2034)]\n"
          ]
        },
        {
          "output_type": "display_data",
          "data": {
            "text/plain": [
              "<Figure size 792x648 with 1 Axes>"
            ],
            "image/png": "[encoded data removed]"
          },
          "metadata": {
            "needs_background": "light"
          }
        }
      ],
      "source": [
        "from nltk.probability import FreqDist\n",
        "tokens = [w for sublist in tokens_corpus for w in sublist]\n",
        "fd = FreqDist(tokens)\n",
        "print(\"40 palavras mais frequentes:\")\n",
        "print(fd.most_common(40))\n",
        "\n",
        "plt.figure(figsize = (11, 9))\n",
        "fd.plot(30, title = \"Frequência de Palavras\")"
      ]
    },
    {
      "cell_type": "code",
      "execution_count": null,
      "metadata": {
        "id": "NlOmAPPcbhf6"
      },
      "outputs": [],
      "source": [
        "#Vetorização do corpus final para futura modelagem. Usaremos a abordagem \"Bag of words\" atribuindo valores \n",
        "#aos tokens utilizando o método TFIDF (term frequency inverse document frequency)\n",
        "from sklearn.feature_extraction.text import CountVectorizer\n",
        "from sklearn.feature_extraction.text import TfidfVectorizer\n",
        "\n",
        "#calculando os valores tf-idf\n",
        "vectorizer = TfidfVectorizer(tokenizer=tokenize)\n",
        "X = vectorizer.fit_transform(df_no_missing.REVIEW_CONTENT)"
      ]
    },
    {
      "cell_type": "code",
      "execution_count": null,
      "metadata": {
        "colab": {
          "base_uri": "https://localhost:8080/"
        },
        "id": "shGqYz5Fbhf7",
        "outputId": "6e1737e2-c313-4e66-cfd6-7f6558b91874"
      },
      "outputs": [
        {
          "output_type": "stream",
          "name": "stdout",
          "text": [
            "<class 'pandas.core.frame.DataFrame'>\n",
            "RangeIndex: 44004 entries, 0 to 44003\n",
            "Columns: 21345 entries, 0 to 21344\n",
            "dtypes: Sparse[float64, 0](21345)\n",
            "memory usage: 5.5 MB\n"
          ]
        }
      ],
      "source": [
        "import scipy.sparse   \n",
        "\n",
        "X_df = pd.DataFrame.sparse.from_spmatrix(X)\n",
        "X_df.info()"
      ]
    },
    {
      "cell_type": "markdown",
      "metadata": {
        "id": "el7bZLu_bhf8"
      },
      "source": [
        "## 4. Modelagem"
      ]
    },
    {
      "cell_type": "markdown",
      "metadata": {
        "id": "JiELFm3Mbhf9"
      },
      "source": [
        "Vamos agora construir nosso modelo de classificação. Para isso, precisamos contruir nossa variável alvo. Vamos construí-la a partir da variável 'SCORE', criando dois valores para as classes: 'High' e 'Low'. Serão rotulados como 'High' todos os exemplos com score 4 e 5 e rotulados como 'Low' os demais casos. Depois, construíremos variáveis dummy para as variáveis categóricas e faremos a divisão do nosso dataset em conjuntos de treino e teste para então prosseguirmos com o treinamento do modelo. Não usaremos aqui a coluna 'CREATED_AT', que é do tipo datetime."
      ]
    },
    {
      "cell_type": "code",
      "execution_count": null,
      "metadata": {
        "colab": {
          "base_uri": "https://localhost:8080/",
          "height": 414
        },
        "id": "YDdMxq_Qbhf9",
        "outputId": "22a7faea-0f8c-447d-db57-3477ae73c6fd"
      },
      "outputs": [
        {
          "output_type": "stream",
          "name": "stderr",
          "text": [
            "/usr/local/lib/python3.7/dist-packages/pandas/core/indexing.py:1684: SettingWithCopyWarning: \n",
            "A value is trying to be set on a copy of a slice from a DataFrame.\n",
            "Try using .loc[row_indexer,col_indexer] = value instead\n",
            "\n",
            "See the caveats in the documentation: https://pandas.pydata.org/pandas-docs/stable/user_guide/indexing.html#returning-a-view-versus-a-copy\n",
            "  self.obj[key] = infer_fill_value(value)\n",
            "/usr/local/lib/python3.7/dist-packages/pandas/core/indexing.py:1817: SettingWithCopyWarning: \n",
            "A value is trying to be set on a copy of a slice from a DataFrame.\n",
            "Try using .loc[row_indexer,col_indexer] = value instead\n",
            "\n",
            "See the caveats in the documentation: https://pandas.pydata.org/pandas-docs/stable/user_guide/indexing.html#returning-a-view-versus-a-copy\n",
            "  self._setitem_single_column(loc, value, pi)\n"
          ]
        },
        {
          "output_type": "execute_result",
          "data": {
            "text/plain": [
              "        DEPARTMENT  CATEGORY  \\\n",
              "0  WOMEN'S FASHION  CLOTHING   \n",
              "1  WOMEN'S FASHION  CLOTHING   \n",
              "2  WOMEN'S FASHION  CLOTHING   \n",
              "3  WOMEN'S FASHION  CLOTHING   \n",
              "4  WOMEN'S FASHION     SHOES   \n",
              "\n",
              "                                      REVIEW_CONTENT  SCORE  \\\n",
              "0     \"Blusa perfeita, muito linda, elegante e sexy\"    5.0   \n",
              "1  \"Tenho busto pequeno, não ficou um caimento no...    2.0   \n",
              "2  \"Ficou um pouco mais apertada do que eu imagin...    3.0   \n",
              "3   \"Comprem pelo tamanho de tabela. Perfeito !!!!!\"    5.0   \n",
              "4  \"eu amei o sapato, chegou muito rápido e a qua...    5.0   \n",
              "\n",
              "                 CREATED_AT     REVIEWER_TYPE LEVEL_SATISFACTION  \n",
              "0 2021-03-30 23:55:24+00:00  \"verified_buyer\"               High  \n",
              "1 2021-02-17 18:24:10+00:00  \"verified_buyer\"                Low  \n",
              "2 2021-03-02 17:03:41+00:00  \"verified_buyer\"                Low  \n",
              "3 2016-11-30 20:19:04+00:00  \"anonymous_user\"               High  \n",
              "4 2021-09-09 16:09:38+00:00  \"verified_buyer\"               High  "
            ],
            "text/html": [
              "\n",
              "  <div id=\"df-261f640b-43dd-4056-92b0-eecbc4d06cda\">\n",
              "    <div class=\"colab-df-container\">\n",
              "      <div>\n",
              "<style scoped>\n",
              "    .dataframe tbody tr th:only-of-type {\n",
              "        vertical-align: middle;\n",
              "    }\n",
              "\n",
              "    .dataframe tbody tr th {\n",
              "        vertical-align: top;\n",
              "    }\n",
              "\n",
              "    .dataframe thead th {\n",
              "        text-align: right;\n",
              "    }\n",
              "</style>\n",
              "<table border=\"1\" class=\"dataframe\">\n",
              "  <thead>\n",
              "    <tr style=\"text-align: right;\">\n",
              "      <th></th>\n",
              "      <th>DEPARTMENT</th>\n",
              "      <th>CATEGORY</th>\n",
              "      <th>REVIEW_CONTENT</th>\n",
              "      <th>SCORE</th>\n",
              "      <th>CREATED_AT</th>\n",
              "      <th>REVIEWER_TYPE</th>\n",
              "      <th>LEVEL_SATISFACTION</th>\n",
              "    </tr>\n",
              "  </thead>\n",
              "  <tbody>\n",
              "    <tr>\n",
              "      <th>0</th>\n",
              "      <td>WOMEN'S FASHION</td>\n",
              "      <td>CLOTHING</td>\n",
              "      <td>\"Blusa perfeita, muito linda, elegante e sexy\"</td>\n",
              "      <td>5.0</td>\n",
              "      <td>2021-03-30 23:55:24+00:00</td>\n",
              "      <td>\"verified_buyer\"</td>\n",
              "      <td>High</td>\n",
              "    </tr>\n",
              "    <tr>\n",
              "      <th>1</th>\n",
              "      <td>WOMEN'S FASHION</td>\n",
              "      <td>CLOTHING</td>\n",
              "      <td>\"Tenho busto pequeno, não ficou um caimento no...</td>\n",
              "      <td>2.0</td>\n",
              "      <td>2021-02-17 18:24:10+00:00</td>\n",
              "      <td>\"verified_buyer\"</td>\n",
              "      <td>Low</td>\n",
              "    </tr>\n",
              "    <tr>\n",
              "      <th>2</th>\n",
              "      <td>WOMEN'S FASHION</td>\n",
              "      <td>CLOTHING</td>\n",
              "      <td>\"Ficou um pouco mais apertada do que eu imagin...</td>\n",
              "      <td>3.0</td>\n",
              "      <td>2021-03-02 17:03:41+00:00</td>\n",
              "      <td>\"verified_buyer\"</td>\n",
              "      <td>Low</td>\n",
              "    </tr>\n",
              "    <tr>\n",
              "      <th>3</th>\n",
              "      <td>WOMEN'S FASHION</td>\n",
              "      <td>CLOTHING</td>\n",
              "      <td>\"Comprem pelo tamanho de tabela. Perfeito !!!!!\"</td>\n",
              "      <td>5.0</td>\n",
              "      <td>2016-11-30 20:19:04+00:00</td>\n",
              "      <td>\"anonymous_user\"</td>\n",
              "      <td>High</td>\n",
              "    </tr>\n",
              "    <tr>\n",
              "      <th>4</th>\n",
              "      <td>WOMEN'S FASHION</td>\n",
              "      <td>SHOES</td>\n",
              "      <td>\"eu amei o sapato, chegou muito rápido e a qua...</td>\n",
              "      <td>5.0</td>\n",
              "      <td>2021-09-09 16:09:38+00:00</td>\n",
              "      <td>\"verified_buyer\"</td>\n",
              "      <td>High</td>\n",
              "    </tr>\n",
              "  </tbody>\n",
              "</table>\n",
              "</div>\n",
              "      <button class=\"colab-df-convert\" onclick=\"convertToInteractive('df-261f640b-43dd-4056-92b0-eecbc4d06cda')\"\n",
              "              title=\"Convert this dataframe to an interactive table.\"\n",
              "              style=\"display:none;\">\n",
              "        \n",
              "  <svg xmlns=\"http://www.w3.org/2000/svg\" height=\"24px\"viewBox=\"0 0 24 24\"\n",
              "       width=\"24px\">\n",
              "    <path d=\"M0 0h24v24H0V0z\" fill=\"none\"/>\n",
              "    <path d=\"M18.56 5.44l.94 2.06.94-2.06 2.06-.94-2.06-.94-.94-2.06-.94 2.06-2.06.94zm-11 1L8.5 8.5l.94-2.06 2.06-.94-2.06-.94L8.5 2.5l-.94 2.06-2.06.94zm10 10l.94 2.06.94-2.06 2.06-.94-2.06-.94-.94-2.06-.94 2.06-2.06.94z\"/><path d=\"M17.41 7.96l-1.37-1.37c-.4-.4-.92-.59-1.43-.59-.52 0-1.04.2-1.43.59L10.3 9.45l-7.72 7.72c-.78.78-.78 2.05 0 2.83L4 21.41c.39.39.9.59 1.41.59.51 0 1.02-.2 1.41-.59l7.78-7.78 2.81-2.81c.8-.78.8-2.07 0-2.86zM5.41 20L4 18.59l7.72-7.72 1.47 1.35L5.41 20z\"/>\n",
              "  </svg>\n",
              "      </button>\n",
              "      \n",
              "  <style>\n",
              "    .colab-df-container {\n",
              "      display:flex;\n",
              "      flex-wrap:wrap;\n",
              "      gap: 12px;\n",
              "    }\n",
              "\n",
              "    .colab-df-convert {\n",
              "      background-color: #E8F0FE;\n",
              "      border: none;\n",
              "      border-radius: 50%;\n",
              "      cursor: pointer;\n",
              "      display: none;\n",
              "      fill: #1967D2;\n",
              "      height: 32px;\n",
              "      padding: 0 0 0 0;\n",
              "      width: 32px;\n",
              "    }\n",
              "\n",
              "    .colab-df-convert:hover {\n",
              "      background-color: #E2EBFA;\n",
              "      box-shadow: 0px 1px 2px rgba(60, 64, 67, 0.3), 0px 1px 3px 1px rgba(60, 64, 67, 0.15);\n",
              "      fill: #174EA6;\n",
              "    }\n",
              "\n",
              "    [theme=dark] .colab-df-convert {\n",
              "      background-color: #3B4455;\n",
              "      fill: #D2E3FC;\n",
              "    }\n",
              "\n",
              "    [theme=dark] .colab-df-convert:hover {\n",
              "      background-color: #434B5C;\n",
              "      box-shadow: 0px 1px 3px 1px rgba(0, 0, 0, 0.15);\n",
              "      filter: drop-shadow(0px 1px 2px rgba(0, 0, 0, 0.3));\n",
              "      fill: #FFFFFF;\n",
              "    }\n",
              "  </style>\n",
              "\n",
              "      <script>\n",
              "        const buttonEl =\n",
              "          document.querySelector('#df-261f640b-43dd-4056-92b0-eecbc4d06cda button.colab-df-convert');\n",
              "        buttonEl.style.display =\n",
              "          google.colab.kernel.accessAllowed ? 'block' : 'none';\n",
              "\n",
              "        async function convertToInteractive(key) {\n",
              "          const element = document.querySelector('#df-261f640b-43dd-4056-92b0-eecbc4d06cda');\n",
              "          const dataTable =\n",
              "            await google.colab.kernel.invokeFunction('convertToInteractive',\n",
              "                                                     [key], {});\n",
              "          if (!dataTable) return;\n",
              "\n",
              "          const docLinkHtml = 'Like what you see? Visit the ' +\n",
              "            '<a target=\"_blank\" href=https://colab.research.google.com/notebooks/data_table.ipynb>data table notebook</a>'\n",
              "            + ' to learn more about interactive tables.';\n",
              "          element.innerHTML = '';\n",
              "          dataTable['output_type'] = 'display_data';\n",
              "          await google.colab.output.renderOutput(dataTable, element);\n",
              "          const docLink = document.createElement('div');\n",
              "          docLink.innerHTML = docLinkHtml;\n",
              "          element.appendChild(docLink);\n",
              "        }\n",
              "      </script>\n",
              "    </div>\n",
              "  </div>\n",
              "  "
            ]
          },
          "metadata": {},
          "execution_count": 13
        }
      ],
      "source": [
        "#criando a variável alvo\n",
        "df_no_missing.loc[df_no_missing['SCORE']>3,'LEVEL_SATISFACTION'] = 'High'\n",
        "df_no_missing.loc[df_no_missing['SCORE']<4,'LEVEL_SATISFACTION'] = 'Low'\n",
        "df_no_missing.head()"
      ]
    },
    {
      "cell_type": "code",
      "execution_count": null,
      "metadata": {
        "colab": {
          "base_uri": "https://localhost:8080/"
        },
        "id": "CE_LRCTcbhf-",
        "outputId": "b951cba2-2204-4ba0-ff3f-be63135980f9"
      },
      "outputs": [
        {
          "output_type": "execute_result",
          "data": {
            "text/plain": [
              "High    38168\n",
              "Low      5836\n",
              "Name: LEVEL_SATISFACTION, dtype: int64"
            ]
          },
          "metadata": {},
          "execution_count": 14
        }
      ],
      "source": [
        "#Checando a quantidade de exemplos em cada classe\n",
        "df_no_missing['LEVEL_SATISFACTION'].value_counts()"
      ]
    },
    {
      "cell_type": "code",
      "execution_count": null,
      "metadata": {
        "colab": {
          "base_uri": "https://localhost:8080/",
          "height": 474
        },
        "id": "1sbaW4qkbhf_",
        "outputId": "d1642bc6-a0ac-4677-8d6e-2f9cf3e4031f"
      },
      "outputs": [
        {
          "output_type": "execute_result",
          "data": {
            "text/plain": [
              "   DEPARTMENT_BEAUTY & PERSONAL CARE  DEPARTMENT_GIFT  \\\n",
              "0                                  0                0   \n",
              "1                                  0                0   \n",
              "2                                  0                0   \n",
              "3                                  0                0   \n",
              "4                                  0                0   \n",
              "5                                  0                0   \n",
              "6                                  0                1   \n",
              "7                                  0                1   \n",
              "8                                  1                0   \n",
              "9                                  0                0   \n",
              "\n",
              "   DEPARTMENT_HOME & GARDEN  DEPARTMENT_INATIVO  DEPARTMENT_INDEFINIDO  \\\n",
              "0                         0                   0                      0   \n",
              "1                         0                   0                      0   \n",
              "2                         0                   0                      0   \n",
              "3                         0                   0                      0   \n",
              "4                         0                   0                      0   \n",
              "5                         0                   0                      0   \n",
              "6                         0                   0                      0   \n",
              "7                         0                   0                      0   \n",
              "8                         0                   0                      0   \n",
              "9                         0                   0                      0   \n",
              "\n",
              "   DEPARTMENT_KIDS & BABIES  DEPARTMENT_NUTRITION & HEALTH  \\\n",
              "0                         0                              0   \n",
              "1                         0                              0   \n",
              "2                         0                              0   \n",
              "3                         0                              0   \n",
              "4                         0                              0   \n",
              "5                         0                              0   \n",
              "6                         0                              0   \n",
              "7                         0                              0   \n",
              "8                         0                              0   \n",
              "9                         0                              0   \n",
              "\n",
              "   DEPARTMENT_WOMEN'S FASHION  CATEGORY_ACCESSORIES  CATEGORY_ACTIVEWEAR  ...  \\\n",
              "0                           1                     0                    0  ...   \n",
              "1                           1                     0                    0  ...   \n",
              "2                           1                     0                    0  ...   \n",
              "3                           1                     0                    0  ...   \n",
              "4                           1                     0                    0  ...   \n",
              "5                           1                     0                    0  ...   \n",
              "6                           0                     0                    0  ...   \n",
              "7                           0                     0                    0  ...   \n",
              "8                           0                     0                    0  ...   \n",
              "9                           1                     1                    0  ...   \n",
              "\n",
              "   CATEGORY_SHOES  CATEGORY_SKINCARE  CATEGORY_STATIONERY  \\\n",
              "0               0                  0                    0   \n",
              "1               0                  0                    0   \n",
              "2               0                  0                    0   \n",
              "3               0                  0                    0   \n",
              "4               1                  0                    0   \n",
              "5               0                  0                    0   \n",
              "6               0                  0                    0   \n",
              "7               0                  0                    0   \n",
              "8               0                  0                    0   \n",
              "9               0                  0                    0   \n",
              "\n",
              "   CATEGORY_SWIMWEAR & BEACHWEAR  CATEGORY_TABLEWARE & KITCHENWARE  \\\n",
              "0                              0                                 0   \n",
              "1                              0                                 0   \n",
              "2                              0                                 0   \n",
              "3                              0                                 0   \n",
              "4                              0                                 0   \n",
              "5                              0                                 0   \n",
              "6                              0                                 0   \n",
              "7                              0                                 0   \n",
              "8                              0                                 0   \n",
              "9                              0                                 0   \n",
              "\n",
              "   CATEGORY_VITAMINS & SUPPLEMENTS  REVIEWER_TYPE_\"anonymous_user\"  \\\n",
              "0                                0                               0   \n",
              "1                                0                               0   \n",
              "2                                0                               0   \n",
              "3                                0                               1   \n",
              "4                                0                               0   \n",
              "5                                0                               0   \n",
              "6                                0                               0   \n",
              "7                                0                               0   \n",
              "8                                0                               0   \n",
              "9                                0                               0   \n",
              "\n",
              "   REVIEWER_TYPE_\"verified_buyer\"  REVIEWER_TYPE_\"verified_reviewer\"  \\\n",
              "0                               1                                  0   \n",
              "1                               1                                  0   \n",
              "2                               1                                  0   \n",
              "3                               0                                  0   \n",
              "4                               1                                  0   \n",
              "5                               1                                  0   \n",
              "6                               1                                  0   \n",
              "7                               1                                  0   \n",
              "8                               1                                  0   \n",
              "9                               1                                  0   \n",
              "\n",
              "   LEVEL_SATISFACTION  \n",
              "0                   1  \n",
              "1                   0  \n",
              "2                   0  \n",
              "3                   1  \n",
              "4                   1  \n",
              "5                   1  \n",
              "6                   1  \n",
              "7                   1  \n",
              "8                   1  \n",
              "9                   0  \n",
              "\n",
              "[10 rows x 39 columns]"
            ],
            "text/html": [
              "\n",
              "  <div id=\"df-7a79d5c0-3f42-4780-baae-c2fcfc54d1de\">\n",
              "    <div class=\"colab-df-container\">\n",
              "      <div>\n",
              "<style scoped>\n",
              "    .dataframe tbody tr th:only-of-type {\n",
              "        vertical-align: middle;\n",
              "    }\n",
              "\n",
              "    .dataframe tbody tr th {\n",
              "        vertical-align: top;\n",
              "    }\n",
              "\n",
              "    .dataframe thead th {\n",
              "        text-align: right;\n",
              "    }\n",
              "</style>\n",
              "<table border=\"1\" class=\"dataframe\">\n",
              "  <thead>\n",
              "    <tr style=\"text-align: right;\">\n",
              "      <th></th>\n",
              "      <th>DEPARTMENT_BEAUTY &amp; PERSONAL CARE</th>\n",
              "      <th>DEPARTMENT_GIFT</th>\n",
              "      <th>DEPARTMENT_HOME &amp; GARDEN</th>\n",
              "      <th>DEPARTMENT_INATIVO</th>\n",
              "      <th>DEPARTMENT_INDEFINIDO</th>\n",
              "      <th>DEPARTMENT_KIDS &amp; BABIES</th>\n",
              "      <th>DEPARTMENT_NUTRITION &amp; HEALTH</th>\n",
              "      <th>DEPARTMENT_WOMEN'S FASHION</th>\n",
              "      <th>CATEGORY_ACCESSORIES</th>\n",
              "      <th>CATEGORY_ACTIVEWEAR</th>\n",
              "      <th>...</th>\n",
              "      <th>CATEGORY_SHOES</th>\n",
              "      <th>CATEGORY_SKINCARE</th>\n",
              "      <th>CATEGORY_STATIONERY</th>\n",
              "      <th>CATEGORY_SWIMWEAR &amp; BEACHWEAR</th>\n",
              "      <th>CATEGORY_TABLEWARE &amp; KITCHENWARE</th>\n",
              "      <th>CATEGORY_VITAMINS &amp; SUPPLEMENTS</th>\n",
              "      <th>REVIEWER_TYPE_\"anonymous_user\"</th>\n",
              "      <th>REVIEWER_TYPE_\"verified_buyer\"</th>\n",
              "      <th>REVIEWER_TYPE_\"verified_reviewer\"</th>\n",
              "      <th>LEVEL_SATISFACTION</th>\n",
              "    </tr>\n",
              "  </thead>\n",
              "  <tbody>\n",
              "    <tr>\n",
              "      <th>0</th>\n",
              "      <td>0</td>\n",
              "      <td>0</td>\n",
              "      <td>0</td>\n",
              "      <td>0</td>\n",
              "      <td>0</td>\n",
              "      <td>0</td>\n",
              "      <td>0</td>\n",
              "      <td>1</td>\n",
              "      <td>0</td>\n",
              "      <td>0</td>\n",
              "      <td>...</td>\n",
              "      <td>0</td>\n",
              "      <td>0</td>\n",
              "      <td>0</td>\n",
              "      <td>0</td>\n",
              "      <td>0</td>\n",
              "      <td>0</td>\n",
              "      <td>0</td>\n",
              "      <td>1</td>\n",
              "      <td>0</td>\n",
              "      <td>1</td>\n",
              "    </tr>\n",
              "    <tr>\n",
              "      <th>1</th>\n",
              "      <td>0</td>\n",
              "      <td>0</td>\n",
              "      <td>0</td>\n",
              "      <td>0</td>\n",
              "      <td>0</td>\n",
              "      <td>0</td>\n",
              "      <td>0</td>\n",
              "      <td>1</td>\n",
              "      <td>0</td>\n",
              "      <td>0</td>\n",
              "      <td>...</td>\n",
              "      <td>0</td>\n",
              "      <td>0</td>\n",
              "      <td>0</td>\n",
              "      <td>0</td>\n",
              "      <td>0</td>\n",
              "      <td>0</td>\n",
              "      <td>0</td>\n",
              "      <td>1</td>\n",
              "      <td>0</td>\n",
              "      <td>0</td>\n",
              "    </tr>\n",
              "    <tr>\n",
              "      <th>2</th>\n",
              "      <td>0</td>\n",
              "      <td>0</td>\n",
              "      <td>0</td>\n",
              "      <td>0</td>\n",
              "      <td>0</td>\n",
              "      <td>0</td>\n",
              "      <td>0</td>\n",
              "      <td>1</td>\n",
              "      <td>0</td>\n",
              "      <td>0</td>\n",
              "      <td>...</td>\n",
              "      <td>0</td>\n",
              "      <td>0</td>\n",
              "      <td>0</td>\n",
              "      <td>0</td>\n",
              "      <td>0</td>\n",
              "      <td>0</td>\n",
              "      <td>0</td>\n",
              "      <td>1</td>\n",
              "      <td>0</td>\n",
              "      <td>0</td>\n",
              "    </tr>\n",
              "    <tr>\n",
              "      <th>3</th>\n",
              "      <td>0</td>\n",
              "      <td>0</td>\n",
              "      <td>0</td>\n",
              "      <td>0</td>\n",
              "      <td>0</td>\n",
              "      <td>0</td>\n",
              "      <td>0</td>\n",
              "      <td>1</td>\n",
              "      <td>0</td>\n",
              "      <td>0</td>\n",
              "      <td>...</td>\n",
              "      <td>0</td>\n",
              "      <td>0</td>\n",
              "      <td>0</td>\n",
              "      <td>0</td>\n",
              "      <td>0</td>\n",
              "      <td>0</td>\n",
              "      <td>1</td>\n",
              "      <td>0</td>\n",
              "      <td>0</td>\n",
              "      <td>1</td>\n",
              "    </tr>\n",
              "    <tr>\n",
              "      <th>4</th>\n",
              "      <td>0</td>\n",
              "      <td>0</td>\n",
              "      <td>0</td>\n",
              "      <td>0</td>\n",
              "      <td>0</td>\n",
              "      <td>0</td>\n",
              "      <td>0</td>\n",
              "      <td>1</td>\n",
              "      <td>0</td>\n",
              "      <td>0</td>\n",
              "      <td>...</td>\n",
              "      <td>1</td>\n",
              "      <td>0</td>\n",
              "      <td>0</td>\n",
              "      <td>0</td>\n",
              "      <td>0</td>\n",
              "      <td>0</td>\n",
              "      <td>0</td>\n",
              "      <td>1</td>\n",
              "      <td>0</td>\n",
              "      <td>1</td>\n",
              "    </tr>\n",
              "    <tr>\n",
              "      <th>5</th>\n",
              "      <td>0</td>\n",
              "      <td>0</td>\n",
              "      <td>0</td>\n",
              "      <td>0</td>\n",
              "      <td>0</td>\n",
              "      <td>0</td>\n",
              "      <td>0</td>\n",
              "      <td>1</td>\n",
              "      <td>0</td>\n",
              "      <td>0</td>\n",
              "      <td>...</td>\n",
              "      <td>0</td>\n",
              "      <td>0</td>\n",
              "      <td>0</td>\n",
              "      <td>0</td>\n",
              "      <td>0</td>\n",
              "      <td>0</td>\n",
              "      <td>0</td>\n",
              "      <td>1</td>\n",
              "      <td>0</td>\n",
              "      <td>1</td>\n",
              "    </tr>\n",
              "    <tr>\n",
              "      <th>6</th>\n",
              "      <td>0</td>\n",
              "      <td>1</td>\n",
              "      <td>0</td>\n",
              "      <td>0</td>\n",
              "      <td>0</td>\n",
              "      <td>0</td>\n",
              "      <td>0</td>\n",
              "      <td>0</td>\n",
              "      <td>0</td>\n",
              "      <td>0</td>\n",
              "      <td>...</td>\n",
              "      <td>0</td>\n",
              "      <td>0</td>\n",
              "      <td>0</td>\n",
              "      <td>0</td>\n",
              "      <td>0</td>\n",
              "      <td>0</td>\n",
              "      <td>0</td>\n",
              "      <td>1</td>\n",
              "      <td>0</td>\n",
              "      <td>1</td>\n",
              "    </tr>\n",
              "    <tr>\n",
              "      <th>7</th>\n",
              "      <td>0</td>\n",
              "      <td>1</td>\n",
              "      <td>0</td>\n",
              "      <td>0</td>\n",
              "      <td>0</td>\n",
              "      <td>0</td>\n",
              "      <td>0</td>\n",
              "      <td>0</td>\n",
              "      <td>0</td>\n",
              "      <td>0</td>\n",
              "      <td>...</td>\n",
              "      <td>0</td>\n",
              "      <td>0</td>\n",
              "      <td>0</td>\n",
              "      <td>0</td>\n",
              "      <td>0</td>\n",
              "      <td>0</td>\n",
              "      <td>0</td>\n",
              "      <td>1</td>\n",
              "      <td>0</td>\n",
              "      <td>1</td>\n",
              "    </tr>\n",
              "    <tr>\n",
              "      <th>8</th>\n",
              "      <td>1</td>\n",
              "      <td>0</td>\n",
              "      <td>0</td>\n",
              "      <td>0</td>\n",
              "      <td>0</td>\n",
              "      <td>0</td>\n",
              "      <td>0</td>\n",
              "      <td>0</td>\n",
              "      <td>0</td>\n",
              "      <td>0</td>\n",
              "      <td>...</td>\n",
              "      <td>0</td>\n",
              "      <td>0</td>\n",
              "      <td>0</td>\n",
              "      <td>0</td>\n",
              "      <td>0</td>\n",
              "      <td>0</td>\n",
              "      <td>0</td>\n",
              "      <td>1</td>\n",
              "      <td>0</td>\n",
              "      <td>1</td>\n",
              "    </tr>\n",
              "    <tr>\n",
              "      <th>9</th>\n",
              "      <td>0</td>\n",
              "      <td>0</td>\n",
              "      <td>0</td>\n",
              "      <td>0</td>\n",
              "      <td>0</td>\n",
              "      <td>0</td>\n",
              "      <td>0</td>\n",
              "      <td>1</td>\n",
              "      <td>1</td>\n",
              "      <td>0</td>\n",
              "      <td>...</td>\n",
              "      <td>0</td>\n",
              "      <td>0</td>\n",
              "      <td>0</td>\n",
              "      <td>0</td>\n",
              "      <td>0</td>\n",
              "      <td>0</td>\n",
              "      <td>0</td>\n",
              "      <td>1</td>\n",
              "      <td>0</td>\n",
              "      <td>0</td>\n",
              "    </tr>\n",
              "  </tbody>\n",
              "</table>\n",
              "<p>10 rows × 39 columns</p>\n",
              "</div>\n",
              "      <button class=\"colab-df-convert\" onclick=\"convertToInteractive('df-7a79d5c0-3f42-4780-baae-c2fcfc54d1de')\"\n",
              "              title=\"Convert this dataframe to an interactive table.\"\n",
              "              style=\"display:none;\">\n",
              "        \n",
              "  <svg xmlns=\"http://www.w3.org/2000/svg\" height=\"24px\"viewBox=\"0 0 24 24\"\n",
              "       width=\"24px\">\n",
              "    <path d=\"M0 0h24v24H0V0z\" fill=\"none\"/>\n",
              "    <path d=\"M18.56 5.44l.94 2.06.94-2.06 2.06-.94-2.06-.94-.94-2.06-.94 2.06-2.06.94zm-11 1L8.5 8.5l.94-2.06 2.06-.94-2.06-.94L8.5 2.5l-.94 2.06-2.06.94zm10 10l.94 2.06.94-2.06 2.06-.94-2.06-.94-.94-2.06-.94 2.06-2.06.94z\"/><path d=\"M17.41 7.96l-1.37-1.37c-.4-.4-.92-.59-1.43-.59-.52 0-1.04.2-1.43.59L10.3 9.45l-7.72 7.72c-.78.78-.78 2.05 0 2.83L4 21.41c.39.39.9.59 1.41.59.51 0 1.02-.2 1.41-.59l7.78-7.78 2.81-2.81c.8-.78.8-2.07 0-2.86zM5.41 20L4 18.59l7.72-7.72 1.47 1.35L5.41 20z\"/>\n",
              "  </svg>\n",
              "      </button>\n",
              "      \n",
              "  <style>\n",
              "    .colab-df-container {\n",
              "      display:flex;\n",
              "      flex-wrap:wrap;\n",
              "      gap: 12px;\n",
              "    }\n",
              "\n",
              "    .colab-df-convert {\n",
              "      background-color: #E8F0FE;\n",
              "      border: none;\n",
              "      border-radius: 50%;\n",
              "      cursor: pointer;\n",
              "      display: none;\n",
              "      fill: #1967D2;\n",
              "      height: 32px;\n",
              "      padding: 0 0 0 0;\n",
              "      width: 32px;\n",
              "    }\n",
              "\n",
              "    .colab-df-convert:hover {\n",
              "      background-color: #E2EBFA;\n",
              "      box-shadow: 0px 1px 2px rgba(60, 64, 67, 0.3), 0px 1px 3px 1px rgba(60, 64, 67, 0.15);\n",
              "      fill: #174EA6;\n",
              "    }\n",
              "\n",
              "    [theme=dark] .colab-df-convert {\n",
              "      background-color: #3B4455;\n",
              "      fill: #D2E3FC;\n",
              "    }\n",
              "\n",
              "    [theme=dark] .colab-df-convert:hover {\n",
              "      background-color: #434B5C;\n",
              "      box-shadow: 0px 1px 3px 1px rgba(0, 0, 0, 0.15);\n",
              "      filter: drop-shadow(0px 1px 2px rgba(0, 0, 0, 0.3));\n",
              "      fill: #FFFFFF;\n",
              "    }\n",
              "  </style>\n",
              "\n",
              "      <script>\n",
              "        const buttonEl =\n",
              "          document.querySelector('#df-7a79d5c0-3f42-4780-baae-c2fcfc54d1de button.colab-df-convert');\n",
              "        buttonEl.style.display =\n",
              "          google.colab.kernel.accessAllowed ? 'block' : 'none';\n",
              "\n",
              "        async function convertToInteractive(key) {\n",
              "          const element = document.querySelector('#df-7a79d5c0-3f42-4780-baae-c2fcfc54d1de');\n",
              "          const dataTable =\n",
              "            await google.colab.kernel.invokeFunction('convertToInteractive',\n",
              "                                                     [key], {});\n",
              "          if (!dataTable) return;\n",
              "\n",
              "          const docLinkHtml = 'Like what you see? Visit the ' +\n",
              "            '<a target=\"_blank\" href=https://colab.research.google.com/notebooks/data_table.ipynb>data table notebook</a>'\n",
              "            + ' to learn more about interactive tables.';\n",
              "          element.innerHTML = '';\n",
              "          dataTable['output_type'] = 'display_data';\n",
              "          await google.colab.output.renderOutput(dataTable, element);\n",
              "          const docLink = document.createElement('div');\n",
              "          docLink.innerHTML = docLinkHtml;\n",
              "          element.appendChild(docLink);\n",
              "        }\n",
              "      </script>\n",
              "    </div>\n",
              "  </div>\n",
              "  "
            ]
          },
          "metadata": {},
          "execution_count": 15
        }
      ],
      "source": [
        "#Criando dummies a partir das variáveis categóricas restantes\n",
        "dummies = pd.get_dummies(df_no_missing[['DEPARTMENT', 'CATEGORY', 'REVIEWER_TYPE']])\n",
        "dummies['LEVEL_SATISFACTION'] = df_no_missing['LEVEL_SATISFACTION'].map({'High':1,'Low':0})\n",
        "dummies.head(10)"
      ]
    },
    {
      "cell_type": "code",
      "execution_count": null,
      "metadata": {
        "colab": {
          "base_uri": "https://localhost:8080/"
        },
        "id": "e6KfvltpbhgA",
        "outputId": "ad90ebc2-3b8b-4c70-af19-e12a75f1409f"
      },
      "outputs": [
        {
          "output_type": "stream",
          "name": "stdout",
          "text": [
            "<class 'pandas.core.frame.DataFrame'>\n",
            "Int64Index: 10000 entries, 0 to 9999\n",
            "Columns: 21384 entries, DEPARTMENT_BEAUTY & PERSONAL CARE to 21344\n",
            "dtypes: Sparse[float64, 0](21345), int64(1), uint8(38)\n",
            "memory usage: 1.8 MB\n"
          ]
        }
      ],
      "source": [
        "#DataFrame final para modelagem\n",
        "\n",
        "df_encoded = dummies[:10000].reset_index(drop=True).merge(X_df,right_index=True, left_index=True)\n",
        "df_encoded.info()"
      ]
    },
    {
      "cell_type": "code",
      "execution_count": null,
      "metadata": {
        "id": "1RY0SKVBbhgA"
      },
      "outputs": [],
      "source": [
        "#Separação em conjuntos de treino e teste\n",
        "\n",
        "from sklearn.model_selection import train_test_split\n",
        "\n",
        "x = df_encoded.drop(['LEVEL_SATISFACTION'], axis = 1)\n",
        "y = df_encoded['LEVEL_SATISFACTION']\n",
        "\n",
        "x_train, x_test, y_train, y_test = train_test_split(x, y, random_state=123)"
      ]
    },
    {
      "cell_type": "code",
      "execution_count": null,
      "metadata": {
        "colab": {
          "base_uri": "https://localhost:8080/"
        },
        "id": "jtxgLa0HbhgC",
        "outputId": "203e961e-e63f-469b-cc46-0c055edad10b"
      },
      "outputs": [
        {
          "output_type": "stream",
          "name": "stdout",
          "text": [
            "[0.93048128 0.92881878 0.92414861 0.92851593 0.92918288]\n"
          ]
        }
      ],
      "source": [
        "# Treinando uma Random Forest com 10 árvores e pré-poda, estabelecendo um número mínimo de amostras para \n",
        "# quebra por árvore. Faremos uma cross-validation com 5 folds para cálculo do f1 score nos dados de treino\n",
        "\n",
        "from sklearn.ensemble import RandomForestClassifier\n",
        "from sklearn.model_selection import RepeatedStratifiedKFold\n",
        "from sklearn.model_selection import cross_val_score\n",
        "\n",
        "clf = RandomForestClassifier(n_estimators=10, random_state=123, min_samples_split=100, class_weight='balanced')\n",
        "#cv = RepeatedStratifiedKFold(n_splits=5, n_repeats=3, random_state=1)\n",
        "scores = cross_val_score(clf, x_train, y_train, scoring=\"f1\", cv=5, n_jobs=-1)\n",
        "print(scores)"
      ]
    },
    {
      "cell_type": "markdown",
      "metadata": {
        "id": "2f8M7UKpbhgC"
      },
      "source": [
        "## 5. Avaliação do modelo"
      ]
    },
    {
      "cell_type": "markdown",
      "metadata": {
        "id": "pWPz-kJrwBqa"
      },
      "source": [
        "Vamos avaliar agora como o modelo generaliza para os dados de teste. Utilizaremos a área sob a curva ROC (Receiver Operating Characteristic) para quantificar o desempenho do modelo e plotaremos a curva ROC para melhor visualização."
      ]
    },
    {
      "cell_type": "code",
      "execution_count": null,
      "metadata": {
        "colab": {
          "base_uri": "https://localhost:8080/"
        },
        "id": "-R7mcxpmwYB3",
        "outputId": "b4047599-199f-4b3a-93db-b8c5029f096c"
      },
      "outputs": [
        {
          "output_type": "stream",
          "name": "stderr",
          "text": [
            "/usr/local/lib/python3.7/dist-packages/sklearn/utils/validation.py:1692: FutureWarning: Feature names only support names that are all strings. Got feature names with dtypes: ['int', 'str']. An error will be raised in 1.2.\n",
            "  FutureWarning,\n",
            "/usr/local/lib/python3.7/dist-packages/sklearn/utils/validation.py:625: UserWarning: pandas.DataFrame with sparse columns found.It will be converted to a dense numpy array.\n",
            "  \"pandas.DataFrame with sparse columns found.\"\n",
            "/usr/local/lib/python3.7/dist-packages/sklearn/utils/validation.py:1692: FutureWarning: Feature names only support names that are all strings. Got feature names with dtypes: ['int', 'str']. An error will be raised in 1.2.\n",
            "  FutureWarning,\n",
            "/usr/local/lib/python3.7/dist-packages/sklearn/utils/validation.py:625: UserWarning: pandas.DataFrame with sparse columns found.It will be converted to a dense numpy array.\n",
            "  \"pandas.DataFrame with sparse columns found.\"\n"
          ]
        },
        {
          "output_type": "stream",
          "name": "stdout",
          "text": [
            "Área sob a curva ROC:  0.8668230404453834\n"
          ]
        }
      ],
      "source": [
        "from sklearn.metrics import roc_curve, roc_auc_score\n",
        "\n",
        "clf.fit(x_train,y_train)\n",
        "y_pred = clf.predict_proba(x_test)\n",
        "print('Área sob a curva ROC: ', roc_auc_score(y_test, y_pred[:,1]))\n",
        "false_positive_rate, true_positive_rate, threshold = roc_curve(y_test, y_pred[:,1])"
      ]
    },
    {
      "cell_type": "code",
      "execution_count": null,
      "metadata": {
        "colab": {
          "base_uri": "https://localhost:8080/",
          "height": 513
        },
        "id": "uwvUitNrzxGf",
        "outputId": "3fa7c7a9-1c59-464a-91ef-4ed2a8e6ba49"
      },
      "outputs": [
        {
          "output_type": "display_data",
          "data": {
            "text/plain": [
              "<Figure size 576x576 with 1 Axes>"
            ],
            "image/png": "[encoded data removed]"
          },
          "metadata": {
            "needs_background": "light"
          }
        }
      ],
      "source": [
        "plt.subplots(1, figsize=(8,8))\n",
        "plt.title('Receiver Operating Characteristic - Random Forest')\n",
        "plt.plot(false_positive_rate, true_positive_rate)\n",
        "plt.plot([0, 1], ls=\"--\")\n",
        "plt.plot([0, 0], [1, 0] , c=\".7\"), plt.plot([1, 1] , c=\".7\")\n",
        "plt.ylabel('True Positive Rate')\n",
        "plt.xlabel('False Positive Rate')\n",
        "plt.show()"
      ]
    },
    {
      "cell_type": "code",
      "execution_count": null,
      "metadata": {
        "id": "tZwTr9gEOSS_"
      },
      "outputs": [],
      "source": []
    },
    {
      "cell_type": "markdown",
      "metadata": {
        "id": "Wptah08wAuNt"
      },
      "source": [
        "Vemos que nosso modelo apresenta um AUC=0.87, o que é razoável numa primeira etapa de construção do modelo. Futuramente seria interessante usar o método de GridSearch para escolher os melhores hiperparâmetros do classificador com o intuito de melhorar a performance. Também como sugestão futura seria interessante utilizar a variável do tipo datetime 'CREATED_AT' para fazer uma análise temporal dos dados, com o intuito de verificar algum comportamento anômalo no tempo. "
      ]
    },
    {
      "cell_type": "code",
      "execution_count": null,
      "metadata": {
        "id": "Vdm0hvryB5K-"
      },
      "outputs": [],
      "source": []
    }
  ],
  "metadata": {
    "colab": {
      "provenance": []
    },
    "kernelspec": {
      "display_name": "Python 3",
      "language": "python",
      "name": "python3"
    },
    "language_info": {
      "codemirror_mode": {
        "name": "ipython",
        "version": 3
      },
      "file_extension": ".py",
      "mimetype": "text/x-python",
      "name": "python",
      "nbconvert_exporter": "python",
      "pygments_lexer": "ipython3",
      "version": "3.8.5"
    }
  },
  "nbformat": 4,
  "nbformat_minor": 0
}